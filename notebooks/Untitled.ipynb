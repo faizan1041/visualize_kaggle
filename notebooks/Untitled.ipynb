{
 "cells": [
  {
   "cell_type": "code",
   "execution_count": 1,
   "metadata": {
    "collapsed": true,
    "deletable": true,
    "editable": true
   },
   "outputs": [],
   "source": [
    "import pandas as pd"
   ]
  },
  {
   "cell_type": "code",
   "execution_count": 2,
   "metadata": {
    "collapsed": true
   },
   "outputs": [],
   "source": [
    "from pymongo import MongoClient"
   ]
  },
  {
   "cell_type": "code",
   "execution_count": 3,
   "metadata": {
    "collapsed": true
   },
   "outputs": [],
   "source": [
    "from bson import json_util"
   ]
  },
  {
   "cell_type": "code",
   "execution_count": 4,
   "metadata": {
    "collapsed": true
   },
   "outputs": [],
   "source": [
    "client = MongoClient('localhost', 27017)\n",
    "import json"
   ]
  },
  {
   "cell_type": "code",
   "execution_count": 6,
   "metadata": {
    "collapsed": false
   },
   "outputs": [
    {
     "data": {
      "text/html": [
       "<div>\n",
       "<table border=\"1\" class=\"dataframe\">\n",
       "  <thead>\n",
       "    <tr style=\"text-align: right;\">\n",
       "      <th></th>\n",
       "      <th>_id</th>\n",
       "      <th>created_at</th>\n",
       "      <th>creatorName</th>\n",
       "      <th>creatorUrl</th>\n",
       "      <th>datasetId</th>\n",
       "      <th>datasetUrl</th>\n",
       "      <th>dateUpdated</th>\n",
       "      <th>downloadCount</th>\n",
       "      <th>forumUrl</th>\n",
       "      <th>isFailed</th>\n",
       "      <th>...</th>\n",
       "      <th>ownerName</th>\n",
       "      <th>ownerUrl</th>\n",
       "      <th>privateGroupMemberCount</th>\n",
       "      <th>scriptCount</th>\n",
       "      <th>scriptsUrl</th>\n",
       "      <th>thumbnailImageUrl</th>\n",
       "      <th>title</th>\n",
       "      <th>topicCount</th>\n",
       "      <th>viewCount</th>\n",
       "      <th>voteButton</th>\n",
       "    </tr>\n",
       "  </thead>\n",
       "  <tbody>\n",
       "    <tr>\n",
       "      <th>0</th>\n",
       "      <td>58cf516b6dbc3a0d90b263f2</td>\n",
       "      <td>2017-03-20 03:50:03</td>\n",
       "      <td>Ludovic Benistant</td>\n",
       "      <td>/ludobenistant</td>\n",
       "      <td>358</td>\n",
       "      <td>/ludobenistant/hr-analytics</td>\n",
       "      <td>2016-11-29T17:41:48.477Z</td>\n",
       "      <td>12588</td>\n",
       "      <td>/ludobenistant/hr-analytics/discussion</td>\n",
       "      <td>False</td>\n",
       "      <td>...</td>\n",
       "      <td>Ludovic Benistant</td>\n",
       "      <td>/ludobenistant</td>\n",
       "      <td>0</td>\n",
       "      <td>0</td>\n",
       "      <td>/ludobenistant/hr-analytics/kernels</td>\n",
       "      <td>https://kaggle2.blob.core.windows.net/datasets...</td>\n",
       "      <td>Human Resources Analytics</td>\n",
       "      <td>55</td>\n",
       "      <td>79457</td>\n",
       "      <td>{u'canDownvote': False, u'currentUserInfo': No...</td>\n",
       "    </tr>\n",
       "    <tr>\n",
       "      <th>1</th>\n",
       "      <td>58cf516b6dbc3a0d90b263f4</td>\n",
       "      <td>2017-03-20 03:50:03</td>\n",
       "      <td>Abigail Larion</td>\n",
       "      <td>/abigaillarion</td>\n",
       "      <td>815</td>\n",
       "      <td>/murderaccountability/homicide-reports</td>\n",
       "      <td>2017-02-10T16:55:29.53Z</td>\n",
       "      <td>2285</td>\n",
       "      <td>/murderaccountability/homicide-reports/discussion</td>\n",
       "      <td>False</td>\n",
       "      <td>...</td>\n",
       "      <td>Murder Accountability Project</td>\n",
       "      <td>/murderaccountability</td>\n",
       "      <td>0</td>\n",
       "      <td>0</td>\n",
       "      <td>/murderaccountability/homicide-reports/kernels</td>\n",
       "      <td>https://kaggle2.blob.core.windows.net/datasets...</td>\n",
       "      <td>Homicide Reports, 1980-2014</td>\n",
       "      <td>12</td>\n",
       "      <td>12423</td>\n",
       "      <td>{u'canDownvote': False, u'currentUserInfo': No...</td>\n",
       "    </tr>\n",
       "    <tr>\n",
       "      <th>2</th>\n",
       "      <td>58cf516b6dbc3a0d90b263f5</td>\n",
       "      <td>2017-03-20 03:50:03</td>\n",
       "      <td>Kaggle Team</td>\n",
       "      <td>/kaggle-team</td>\n",
       "      <td>19</td>\n",
       "      <td>/uciml/iris</td>\n",
       "      <td>2016-09-27T07:38:05.44Z</td>\n",
       "      <td>8908</td>\n",
       "      <td>/uciml/iris/discussion</td>\n",
       "      <td>False</td>\n",
       "      <td>...</td>\n",
       "      <td>UCI Machine Learning</td>\n",
       "      <td>/uciml</td>\n",
       "      <td>0</td>\n",
       "      <td>0</td>\n",
       "      <td>/uciml/iris/kernels</td>\n",
       "      <td>https://kaggle2.blob.core.windows.net/datasets...</td>\n",
       "      <td>Iris Species</td>\n",
       "      <td>62</td>\n",
       "      <td>68652</td>\n",
       "      <td>{u'canDownvote': False, u'currentUserInfo': No...</td>\n",
       "    </tr>\n",
       "    <tr>\n",
       "      <th>3</th>\n",
       "      <td>58cf516b6dbc3a0d90b263f6</td>\n",
       "      <td>2017-03-20 03:50:03</td>\n",
       "      <td>Andrea</td>\n",
       "      <td>/dalpozz</td>\n",
       "      <td>310</td>\n",
       "      <td>/dalpozz/creditcardfraud</td>\n",
       "      <td>2016-11-05T09:08:46.503Z</td>\n",
       "      <td>11892</td>\n",
       "      <td>/dalpozz/creditcardfraud/discussion</td>\n",
       "      <td>False</td>\n",
       "      <td>...</td>\n",
       "      <td>Andrea</td>\n",
       "      <td>/dalpozz</td>\n",
       "      <td>0</td>\n",
       "      <td>0</td>\n",
       "      <td>/dalpozz/creditcardfraud/kernels</td>\n",
       "      <td>https://kaggle2.blob.core.windows.net/datasets...</td>\n",
       "      <td>Credit Card Fraud Detection</td>\n",
       "      <td>31</td>\n",
       "      <td>83921</td>\n",
       "      <td>{u'canDownvote': False, u'currentUserInfo': No...</td>\n",
       "    </tr>\n",
       "    <tr>\n",
       "      <th>4</th>\n",
       "      <td>58cf516b6dbc3a0d90b263f7</td>\n",
       "      <td>2017-03-20 03:50:03</td>\n",
       "      <td>chuansun76</td>\n",
       "      <td>/deepmatrix</td>\n",
       "      <td>138</td>\n",
       "      <td>/deepmatrix/imdb-5000-movie-dataset</td>\n",
       "      <td>2016-08-30T03:36:42.737Z</td>\n",
       "      <td>23142</td>\n",
       "      <td>/deepmatrix/imdb-5000-movie-dataset/discussion</td>\n",
       "      <td>False</td>\n",
       "      <td>...</td>\n",
       "      <td>chuansun76</td>\n",
       "      <td>/deepmatrix</td>\n",
       "      <td>0</td>\n",
       "      <td>0</td>\n",
       "      <td>/deepmatrix/imdb-5000-movie-dataset/kernels</td>\n",
       "      <td>https://kaggle2.blob.core.windows.net/datasets...</td>\n",
       "      <td>IMDB 5000 Movie Dataset</td>\n",
       "      <td>54</td>\n",
       "      <td>147160</td>\n",
       "      <td>{u'canDownvote': False, u'currentUserInfo': No...</td>\n",
       "    </tr>\n",
       "  </tbody>\n",
       "</table>\n",
       "<p>5 rows × 24 columns</p>\n",
       "</div>"
      ],
      "text/plain": [
       "                        _id           created_at        creatorName  \\\n",
       "0  58cf516b6dbc3a0d90b263f2  2017-03-20 03:50:03  Ludovic Benistant   \n",
       "1  58cf516b6dbc3a0d90b263f4  2017-03-20 03:50:03     Abigail Larion   \n",
       "2  58cf516b6dbc3a0d90b263f5  2017-03-20 03:50:03        Kaggle Team   \n",
       "3  58cf516b6dbc3a0d90b263f6  2017-03-20 03:50:03             Andrea   \n",
       "4  58cf516b6dbc3a0d90b263f7  2017-03-20 03:50:03         chuansun76   \n",
       "\n",
       "       creatorUrl  datasetId                              datasetUrl  \\\n",
       "0  /ludobenistant        358             /ludobenistant/hr-analytics   \n",
       "1  /abigaillarion        815  /murderaccountability/homicide-reports   \n",
       "2    /kaggle-team         19                             /uciml/iris   \n",
       "3        /dalpozz        310                /dalpozz/creditcardfraud   \n",
       "4     /deepmatrix        138     /deepmatrix/imdb-5000-movie-dataset   \n",
       "\n",
       "                dateUpdated  downloadCount  \\\n",
       "0  2016-11-29T17:41:48.477Z          12588   \n",
       "1   2017-02-10T16:55:29.53Z           2285   \n",
       "2   2016-09-27T07:38:05.44Z           8908   \n",
       "3  2016-11-05T09:08:46.503Z          11892   \n",
       "4  2016-08-30T03:36:42.737Z          23142   \n",
       "\n",
       "                                            forumUrl isFailed  \\\n",
       "0             /ludobenistant/hr-analytics/discussion    False   \n",
       "1  /murderaccountability/homicide-reports/discussion    False   \n",
       "2                             /uciml/iris/discussion    False   \n",
       "3                /dalpozz/creditcardfraud/discussion    False   \n",
       "4     /deepmatrix/imdb-5000-movie-dataset/discussion    False   \n",
       "\n",
       "                         ...                          \\\n",
       "0                        ...                           \n",
       "1                        ...                           \n",
       "2                        ...                           \n",
       "3                        ...                           \n",
       "4                        ...                           \n",
       "\n",
       "                       ownerName               ownerUrl  \\\n",
       "0              Ludovic Benistant         /ludobenistant   \n",
       "1  Murder Accountability Project  /murderaccountability   \n",
       "2           UCI Machine Learning                 /uciml   \n",
       "3                         Andrea               /dalpozz   \n",
       "4                     chuansun76            /deepmatrix   \n",
       "\n",
       "  privateGroupMemberCount scriptCount  \\\n",
       "0                       0           0   \n",
       "1                       0           0   \n",
       "2                       0           0   \n",
       "3                       0           0   \n",
       "4                       0           0   \n",
       "\n",
       "                                       scriptsUrl  \\\n",
       "0             /ludobenistant/hr-analytics/kernels   \n",
       "1  /murderaccountability/homicide-reports/kernels   \n",
       "2                             /uciml/iris/kernels   \n",
       "3                /dalpozz/creditcardfraud/kernels   \n",
       "4     /deepmatrix/imdb-5000-movie-dataset/kernels   \n",
       "\n",
       "                                   thumbnailImageUrl  \\\n",
       "0  https://kaggle2.blob.core.windows.net/datasets...   \n",
       "1  https://kaggle2.blob.core.windows.net/datasets...   \n",
       "2  https://kaggle2.blob.core.windows.net/datasets...   \n",
       "3  https://kaggle2.blob.core.windows.net/datasets...   \n",
       "4  https://kaggle2.blob.core.windows.net/datasets...   \n",
       "\n",
       "                         title  topicCount viewCount  \\\n",
       "0    Human Resources Analytics          55     79457   \n",
       "1  Homicide Reports, 1980-2014          12     12423   \n",
       "2                 Iris Species          62     68652   \n",
       "3  Credit Card Fraud Detection          31     83921   \n",
       "4      IMDB 5000 Movie Dataset          54    147160   \n",
       "\n",
       "                                          voteButton  \n",
       "0  {u'canDownvote': False, u'currentUserInfo': No...  \n",
       "1  {u'canDownvote': False, u'currentUserInfo': No...  \n",
       "2  {u'canDownvote': False, u'currentUserInfo': No...  \n",
       "3  {u'canDownvote': False, u'currentUserInfo': No...  \n",
       "4  {u'canDownvote': False, u'currentUserInfo': No...  \n",
       "\n",
       "[5 rows x 24 columns]"
      ]
     },
     "execution_count": 6,
     "metadata": {},
     "output_type": "execute_result"
    }
   ],
   "source": [
    "db = client.visualize_kaggle\n",
    "cur = db.datasets.find({\"isFeatured\" : True}).limit(5)\n",
    "df = pd.DataFrame(list(cur))\n",
    "df"
   ]
  },
  {
   "cell_type": "code",
   "execution_count": 8,
   "metadata": {
    "collapsed": false
   },
   "outputs": [
    {
     "ename": "AttributeError",
     "evalue": "'module' object has no attribute 'dump'",
     "output_type": "error",
     "traceback": [
      "\u001b[0;31m---------------------------------------------------------------------------\u001b[0m",
      "\u001b[0;31mAttributeError\u001b[0m                            Traceback (most recent call last)",
      "\u001b[0;32m<ipython-input-8-e8924b90a073>\u001b[0m in \u001b[0;36m<module>\u001b[0;34m()\u001b[0m\n\u001b[0;32m----> 1\u001b[0;31m \u001b[0mjson_util\u001b[0m\u001b[0;34m.\u001b[0m\u001b[0mdump\u001b[0m\u001b[0;34m(\u001b[0m\u001b[0;36m1\u001b[0m\u001b[0;34m)\u001b[0m\u001b[0;34m\u001b[0m\u001b[0m\n\u001b[0m",
      "\u001b[0;31mAttributeError\u001b[0m: 'module' object has no attribute 'dump'"
     ]
    }
   ],
   "source": [
    "json_util.dump(1)"
   ]
  },
  {
   "cell_type": "code",
   "execution_count": null,
   "metadata": {
    "collapsed": false,
    "deletable": true,
    "editable": true
   },
   "outputs": [],
   "source": [
    "df = pd.read_csv('hr_analytics/HR_comma_sep.csv')"
   ]
  },
  {
   "cell_type": "code",
   "execution_count": null,
   "metadata": {
    "collapsed": false,
    "deletable": true,
    "editable": true
   },
   "outputs": [],
   "source": [
    "df[['average_montly_hours','satisfaction_level']]"
   ]
  }
 ],
 "metadata": {
  "anaconda-cloud": {},
  "kernelspec": {
   "display_name": "Python [default]",
   "language": "python",
   "name": "python2"
  },
  "language_info": {
   "codemirror_mode": {
    "name": "ipython",
    "version": 2
   },
   "file_extension": ".py",
   "mimetype": "text/x-python",
   "name": "python",
   "nbconvert_exporter": "python",
   "pygments_lexer": "ipython2",
   "version": "2.7.12"
  }
 },
 "nbformat": 4,
 "nbformat_minor": 1
}
